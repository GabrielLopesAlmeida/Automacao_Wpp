{
 "cells": [
  {
   "cell_type": "code",
   "execution_count": 1,
   "id": "a8244fe3",
   "metadata": {},
   "outputs": [],
   "source": [
    "import pyautogui as pa\n",
    "import pyperclip\n",
    "import time\n",
    "\n",
    "pa.PAUSE = 1\n",
    "# 1 passo: entrar no link(web.whatsapp.com)\n",
    "pa.hotkey('ctrl','t')\n",
    "pa.write(\"web.whatsapp.com\")\n",
    "pa.press(\"enter\")\n",
    "# 2 passo: ir no pesquisar contatos\n",
    "time.sleep(10)\n",
    "pa.click(x=223, y=184)\n",
    "pa.write(\"paty\")\n",
    "pa.press(\"enter\")\n",
    "pa.write(\"Deu certo!\")\n",
    "pa.press(\"enter\")\n",
    "pa.click(x=223, y=184)\n",
    "pa.write(\"jeffh\")\n",
    "pa.press(\"enter\")\n",
    "pa.write(\"Deu certo!\")\n",
    "pa.press(\"enter\")"
   ]
  },
  {
   "cell_type": "code",
   "execution_count": null,
   "id": "83e164a8",
   "metadata": {},
   "outputs": [],
   "source": []
  }
 ],
 "metadata": {
  "kernelspec": {
   "display_name": "Python 3",
   "language": "python",
   "name": "python3"
  },
  "language_info": {
   "codemirror_mode": {
    "name": "ipython",
    "version": 3
   },
   "file_extension": ".py",
   "mimetype": "text/x-python",
   "name": "python",
   "nbconvert_exporter": "python",
   "pygments_lexer": "ipython3",
   "version": "3.8.8"
  }
 },
 "nbformat": 4,
 "nbformat_minor": 5
}
